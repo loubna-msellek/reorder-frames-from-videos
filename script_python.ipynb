{
  "nbformat": 4,
  "nbformat_minor": 0,
  "metadata": {
    "colab": {
      "name": "Untitled2.ipynb",
      "provenance": [],
      "collapsed_sections": []
    },
    "kernelspec": {
      "name": "python3",
      "display_name": "Python 3"
    },
    "language_info": {
      "name": "python"
    },
    "accelerator": "TPU"
  },
  "cells": [
    {
      "cell_type": "markdown",
      "source": [
        "Le problème est le suivant:\n",
        "Il s'agit d'une vidéo corrompue que l'on trouvera sous le nom de video.mp4\n",
        "\n",
        "Nous avons filmé une scène normale, divisé la vidéo obtenue en ses multiples images, mélangé toutes celles-ci, ajouté des images qui n’avaient rien à voir à l’intérieur puis recréé une vidéo à partir de toutes ces images dans le désordre. La mission consiste à créer un algorithme permettant de recréer la vidéo initiale. Cet algorithme doit être assez général pour pouvoir être appliqué à une autre vidéo qui aurait subi un traitement similaire.Tu as le choix de la méthode, du langage, des librairies. "
      ],
      "metadata": {
        "id": "Ny_apbbEPVPp"
      }
    },
    {
      "cell_type": "markdown",
      "source": [
        "# PARTIE 1 PREPROCESSING"
      ],
      "metadata": {
        "id": "sPCUVnSgR-cp"
      }
    },
    {
      "cell_type": "markdown",
      "source": [
        "Pour résoudre le problème, nous allons récupérer des images à partir de la vidéo corrompue. Puis, nous allons créer des features pertinents grâce au modèle vgg pré-entraîné sur lesquel nous ne récupérerons que les layers de plus haut niveau. A partir de cette information, nous travaillerons sur ces embeddings d'images pour retrouver l'ordre."
      ],
      "metadata": {
        "id": "6HAlGd7ESII_"
      }
    },
    {
      "cell_type": "markdown",
      "source": [
        "## Locate to the right files and load librairies"
      ],
      "metadata": {
        "id": "BdZnsre8ivn5"
      }
    },
    {
      "cell_type": "markdown",
      "source": [
        "First, we place ourselves in the right folder and load the librairies"
      ],
      "metadata": {
        "id": "VDebUmUKONJH"
      }
    },
    {
      "cell_type": "code",
      "execution_count": 2,
      "metadata": {
        "id": "aQBaWCMfI-m9",
        "colab": {
          "base_uri": "https://localhost:8080/"
        },
        "outputId": "0572c548-e923-4090-b7ac-a000e833eb08"
      },
      "outputs": [
        {
          "output_type": "stream",
          "name": "stdout",
          "text": [
            "\u001b[0m\u001b[01;34mdrive\u001b[0m/  \u001b[01;34msample_data\u001b[0m/\n"
          ]
        }
      ],
      "source": [
        "%ls"
      ]
    },
    {
      "cell_type": "code",
      "source": [
        "%cd drive \n",
        "%cd MyDrive\n",
        "%cd image_retrieval"
      ],
      "metadata": {
        "id": "SxYQpkTgyivU",
        "colab": {
          "base_uri": "https://localhost:8080/"
        },
        "outputId": "7786b583-b808-4015-a0b3-935d77fad8a3"
      },
      "execution_count": 3,
      "outputs": [
        {
          "output_type": "stream",
          "name": "stdout",
          "text": [
            "/content/drive\n",
            "/content/drive/MyDrive\n",
            "/content/drive/MyDrive/image_retrieval\n"
          ]
        }
      ]
    },
    {
      "cell_type": "code",
      "source": [
        "from sklearn.neighbors import NearestNeighbors, kneighbors_graph\n",
        "from sklearn.decomposition import PCA\n",
        "from sklearn.preprocessing import scale,normalize\n",
        "from scipy import sparse\n",
        "from pandas.plotting import register_matplotlib_converters\n",
        "register_matplotlib_converters()\n",
        "from networkx.algorithms.approximation.traveling_salesman import traveling_salesman_problem,christofides\n",
        "\n",
        "\n",
        "from src.autoencoder import AutoEncoder\n",
        "\n",
        "import scipy.cluster.hierarchy as shc\n",
        "import tensorflow as tf\n",
        "import matplotlib.pyplot as plt\n",
        "import plotly.express as px \n",
        "import pandas as pd\n",
        "import cv2 \n",
        "import os \n",
        "import numpy as np\n",
        "import seaborn as sns\n",
        "import glob\n",
        "import networkx as nx\n",
        "from sklearn.preprocessing import normalize\n",
        "import plotly.express as px \n",
        "import os\n",
        "import skimage.io\n",
        "\n",
        "from skimage.io import imread, imshow\n",
        "from skimage.color import rgb2gray\n",
        "from skimage.feature import match_template, peak_local_max\n",
        "from skimage import transform\n",
        "\n",
        "\n",
        "sns.set_style('darkgrid', {'axes.facecolor': '.9'})\n",
        "sns.set_palette(palette='deep')\n",
        "sns_c = sns.color_palette(palette='deep')\n",
        "%matplotlib inline"
      ],
      "metadata": {
        "id": "ut7yw6ZRKOuj"
      },
      "execution_count": 4,
      "outputs": []
    },
    {
      "cell_type": "markdown",
      "source": [
        "We import the functions implemented in the github of @ankonzoid (cf https://github.com/ankonzoid/artificio/tree/master/image_retrieval)"
      ],
      "metadata": {
        "id": "jBY3xRCKOV05"
      }
    },
    {
      "cell_type": "code",
      "source": [
        "\n",
        "# Read image\n",
        "def read_img(filePath):\n",
        "    return skimage.io.imread(filePath, as_gray=False)\n",
        "\n",
        "# Read images with common extensions from a directory\n",
        "def read_imgs_dir(dirPath, extensions):\n",
        "    args = [os.path.join(dirPath, filename)\n",
        "            for filename in os.listdir(dirPath)\n",
        "            if any(filename.lower().endswith(ext) for ext in extensions)]\n",
        "\n",
        "    imgs = [read_img(arg) for arg in args]\n",
        "    return imgs\n",
        "\n",
        "# Save image to file\n",
        "def save_img(filePath, img):\n",
        "    skimage.io.imsave(filePath, img)\n",
        "\n",
        "\n",
        "from skimage.transform import resize\n",
        "\n",
        "# Apply transformations to multiple images\n",
        "def apply_transformer(imgs, transformer, parallel=True):\n",
        "\n",
        "    imgs_transform = [transformer(img) for img in imgs]\n",
        "    return imgs_transform\n",
        "\n",
        "# Normalize image data [0, 255] -> [0.0, 1.0]\n",
        "def normalize_img(img):\n",
        "    return img / 255.\n",
        "\n",
        "# Resize image\n",
        "def resize_img(img, shape_resized):\n",
        "    img_resized = resize(img, shape_resized,\n",
        "                         anti_aliasing=True,\n",
        "                         preserve_range=True)\n",
        "    assert img_resized.shape == shape_resized\n",
        "    return img_resized\n",
        "\n",
        "# Flatten image\n",
        "def flatten_img(img):\n",
        "    return img.flatten(\"C\")"
      ],
      "metadata": {
        "id": "J3S2QOEMT4eZ"
      },
      "execution_count": 5,
      "outputs": []
    },
    {
      "cell_type": "markdown",
      "source": [
        "## Retrieve frames from video"
      ],
      "metadata": {
        "id": "XjDi3F4gud8X"
      }
    },
    {
      "cell_type": "markdown",
      "source": [
        "We implement a function to extract the frames from the initial video and save it in a folder"
      ],
      "metadata": {
        "id": "vFvDJl-KOs5D"
      }
    },
    {
      "cell_type": "code",
      "source": [
        "cam = cv2.VideoCapture(\"video.mp4\") \n",
        "\n",
        "try: \n",
        "    if not os.path.exists('data'): \n",
        "        os.makedirs('data') \n",
        "except OSError: \n",
        "    print ('Error: Creating directory of data') \n",
        "  \n",
        "currentframe = 0\n",
        "  \n",
        "while(True): \n",
        "      \n",
        "    \n",
        "    ret,frame = cam.read() \n",
        "  \n",
        "    if ret: \n",
        "  \n",
        "        name = 'frame' + str(currentframe) + '.jpg'\n",
        "        print ('Creating...' + name) \n",
        "    \n",
        "        if not cv2.imwrite(name, frame):\n",
        "            raise Exception(\"Could not write image\")\n",
        "        \n",
        "        currentframe += 1\n",
        "    else: \n",
        "        break\n",
        "  \n",
        "cam.release() \n",
        "cv2.destroyAllWindows() \n"
      ],
      "metadata": {
        "id": "zLlsjWqvua0S"
      },
      "execution_count": null,
      "outputs": []
    },
    {
      "cell_type": "markdown",
      "source": [
        "## Create embeddings from frames"
      ],
      "metadata": {
        "id": "25ea2G8svFWO"
      }
    },
    {
      "cell_type": "code",
      "source": [
        "#The idea is to concatenate frames into a list of images for further analysis\n",
        "rgb_frames = ['frame'+str(num) for num in range(114)]\n",
        "images = []\n",
        "shape_keep=imread('frame169.jpg').shape\n",
        "for rgb in rgb_frames: \n",
        "    globals()[rgb] = imread(rgb+'.jpg')\n",
        "    images.append(globals()[rgb])\n",
        "\n",
        "\n"
      ],
      "metadata": {
        "id": "JmDOQMmWqXhw"
      },
      "execution_count": null,
      "outputs": []
    },
    {
      "cell_type": "code",
      "source": [
        "for i in range(len(images)):\n",
        "    print(i)\n",
        "  \n",
        "    modelName = \"vgg19\"  \n",
        "    trainModel = True\n",
        "\n",
        "    outDir = os.path.join(os.getcwd(), \"output\", modelName)\n",
        "    if not os.path.exists(outDir):\n",
        "        os.makedirs(outDir)\n",
        "\n",
        "    # Read images\n",
        "    extensions = [\".jpg\", \".jpeg\"]\n",
        "    imgs_train=images[i] #to have sufficient RAM\n",
        "    shape_img = imgs_train[0].shape\n",
        "\n",
        "    # Build models\n",
        "    if modelName in [\"vgg19\"]:\n",
        "\n",
        "        # Load pre-trained VGG19 model + higher level layers\n",
        "        print(\"Loading VGG19 pre-trained model...\")\n",
        "        model = tf.keras.applications.VGG19(weights='imagenet', include_top=False,input_shape=shape_img)\n",
        "        model.summary()\n",
        "\n",
        "        shape_img_resize = tuple([int(x) for x in model.input.shape[1:]])\n",
        "        input_shape_model = tuple([int(x) for x in model.input.shape[1:]])\n",
        "        output_shape_model = tuple([int(x) for x in model.output.shape[1:]])\n",
        "        n_epochs = None\n",
        "\n",
        "    else:\n",
        "        raise Exception(\"Invalid modelName!\")\n",
        "\n",
        "    # Print some model info\n",
        "    print(\"input_shape_model = {}\".format(input_shape_model))\n",
        "    print(\"output_shape_model = {}\".format(output_shape_model))\n",
        "\n",
        "    # Apply transformations to all images\n",
        "    class ImageTransformer(object):\n",
        "\n",
        "        def __init__(self, shape_resize):\n",
        "            self.shape_resize = shape_resize\n",
        "\n",
        "        def __call__(self, img):\n",
        "            img_transformed = resize_img(img, self.shape_resize)\n",
        "            img_transformed = normalize_img(img_transformed)\n",
        "            return img_transformed\n",
        "\n",
        "    transformer = ImageTransformer(shape_img_resize)\n",
        "    print(\"Applying image transformer to training images...\")\n",
        "    imgs_train_transformed = apply_transformer(imgs_train, transformer, parallel=parallel)\n",
        "   \n",
        "    # Convert images to numpy array\n",
        "    X_train = np.array(imgs_train_transformed).reshape((-1,) + input_shape_model)\n",
        "    print(\" -> X_train.shape = {}\".format(X_train.shape))\n",
        "\n",
        "\n",
        "\n",
        "    # Create embeddings using model\n",
        "    print(\"Inferencing embeddings using pre-trained model...\")\n",
        "    E_train = model.predict(X_train)\n",
        "    E_train_flatten = E_train.reshape((-1, np.prod(output_shape_model)))\n",
        "   \n",
        "    print(\" -> E_train.shape = {}\".format(E_train.shape))\n",
        "    print(\" -> E_train_flatten.shape = {}\".format(E_train_flatten.shape))\n",
        "   \n",
        "    np.save('image'+str(i)+'.npy',imgs_train)\n",
        "    np.save('embdedding'+str(i)+'.npy',E_train_flatten)"
      ],
      "metadata": {
        "id": "dBlNisOrvS-I"
      },
      "execution_count": null,
      "outputs": []
    },
    {
      "cell_type": "code",
      "source": [
        "#create the final embeddings and images\n",
        "for i in range(23):\n",
        "  globals()['embedding'+str(i)]=np.load('embdedding'+str(i)+'.npy')\n",
        "  globals()['image'+str(i)]=np.load('image'+str(i)+'.npy')\n",
        "concatenate=np.concatenate([globals()['embedding'+str(i)] for i in range(23)], axis=0)\n",
        "imageconcatenate=np.concatenate([globals()['image'+str(i)] for i in range(23)], axis=0)\n",
        "np.save('concatenate.npy',concatenate)\n",
        "np.save('imageconcatenate.npy',imageconcatenate)"
      ],
      "metadata": {
        "id": "5993U4ZnIYKb"
      },
      "execution_count": null,
      "outputs": []
    },
    {
      "cell_type": "markdown",
      "source": [
        "# PARTIE 2 : ANALYSE DES EMBEDDINGS ET RETROUVER LE CHEMIN\n"
      ],
      "metadata": {
        "id": "aI2ht8EESS2w"
      }
    },
    {
      "cell_type": "markdown",
      "source": [
        "L'idée est d'abord d'exclure les outliers du jeu de données, grâce à une réduction de dimension par une ACP (Analyse en Composantes Principales) et un clustering hiérarchique approprié à notre problème."
      ],
      "metadata": {
        "id": "gLJzwgyYTQtW"
      }
    },
    {
      "cell_type": "markdown",
      "source": [
        "Après avoir récupéré les images correspondant effectivement à la vidéo, nous transformons le problème de l'ordre en un problème de graphe (en utilisant les distance entre tous les images): nous essayons de determiner le plus court chemin passant par tous les points dans un graphe complet.\n",
        "\n",
        "On va résoudre le problème en utilisant une approximation de la solution du Traveling Salesman Problem, à l'aide de la librairie networkx. Pour réussir à trouver une solution, on fixe le point de départ grâce à l'analyse du premier axe factoriel de l'ACP.\n",
        "\n",
        "Enfin, on va à partir de l'ordre établi, reconstruire la vidéo d'origine"
      ],
      "metadata": {
        "id": "-sTXLJL4TS7c"
      }
    },
    {
      "cell_type": "markdown",
      "source": [
        "## START HERE: Load the embeddings and images directly from the preprocessing I made in the upper section"
      ],
      "metadata": {
        "id": "zkhJO33VkNfw"
      }
    },
    {
      "cell_type": "code",
      "source": [
        "concatenate=np.load('concatenate.npy')\n",
        "imageconcatenate=np.load('imageconcatenate.npy')"
      ],
      "metadata": {
        "id": "_YiGfKPDF-p2"
      },
      "execution_count": 6,
      "outputs": []
    },
    {
      "cell_type": "markdown",
      "source": [
        "## Use PCA on embeddings to cluster "
      ],
      "metadata": {
        "id": "5IbaAEvwkTHh"
      }
    },
    {
      "cell_type": "code",
      "source": [
        "pca = PCA()\n",
        "pca.fit(normalize(concatenate))\n"
      ],
      "metadata": {
        "colab": {
          "base_uri": "https://localhost:8080/"
        },
        "id": "35VbvBNzTf6a",
        "outputId": "6e9f2911-dd6c-41d4-9cd1-1f219f5b53bb"
      },
      "execution_count": 8,
      "outputs": [
        {
          "output_type": "execute_result",
          "data": {
            "text/plain": [
              "PCA()"
            ]
          },
          "metadata": {},
          "execution_count": 8
        }
      ]
    },
    {
      "cell_type": "markdown",
      "source": [
        "We do an analysis on the results of PCA"
      ],
      "metadata": {
        "id": "VKVPQDEyT1jc"
      }
    },
    {
      "cell_type": "code",
      "source": [
        "\n",
        "pca_trans=pca.transform(concatenate)\n",
        "pca_df = pd.DataFrame({\n",
        "    \"Dim1\" : pca_trans[:,0], \n",
        "    \"Dim2\" : pca_trans[:,1],\n",
        "    \"index\": [i for i in range(len(pca_trans[:,1]))]\n",
        "})\n",
        "\n",
        "fig = px.scatter(pca_df, x=\"Dim1\", y=\"Dim2\",text=\"index\")\n",
        "fig.title(\"Courbe présentant les données dans les deux premiers axes factoriels de l'ACP\")\n",
        "fig.show()"
      ],
      "metadata": {
        "colab": {
          "base_uri": "https://localhost:8080/",
          "height": 217
        },
        "id": "F62OTWkL4KmW",
        "outputId": "f91955d9-51af-493d-8ca3-21bcd68d0570"
      },
      "execution_count": 9,
      "outputs": [
        {
          "output_type": "error",
          "ename": "AttributeError",
          "evalue": "ignored",
          "traceback": [
            "\u001b[0;31m---------------------------------------------------------------------------\u001b[0m",
            "\u001b[0;31mAttributeError\u001b[0m                            Traceback (most recent call last)",
            "\u001b[0;32m<ipython-input-9-f115a3b861f3>\u001b[0m in \u001b[0;36m<module>\u001b[0;34m()\u001b[0m\n\u001b[1;32m      8\u001b[0m \u001b[0;34m\u001b[0m\u001b[0m\n\u001b[1;32m      9\u001b[0m \u001b[0mfig\u001b[0m \u001b[0;34m=\u001b[0m \u001b[0mpx\u001b[0m\u001b[0;34m.\u001b[0m\u001b[0mscatter\u001b[0m\u001b[0;34m(\u001b[0m\u001b[0mpca_df\u001b[0m\u001b[0;34m,\u001b[0m \u001b[0mx\u001b[0m\u001b[0;34m=\u001b[0m\u001b[0;34m\"Dim1\"\u001b[0m\u001b[0;34m,\u001b[0m \u001b[0my\u001b[0m\u001b[0;34m=\u001b[0m\u001b[0;34m\"Dim2\"\u001b[0m\u001b[0;34m,\u001b[0m\u001b[0mtext\u001b[0m\u001b[0;34m=\u001b[0m\u001b[0;34m\"index\"\u001b[0m\u001b[0;34m)\u001b[0m\u001b[0;34m\u001b[0m\u001b[0;34m\u001b[0m\u001b[0m\n\u001b[0;32m---> 10\u001b[0;31m \u001b[0mfig\u001b[0m\u001b[0;34m.\u001b[0m\u001b[0mtitle\u001b[0m\u001b[0;34m(\u001b[0m\u001b[0;34m\"Courbe présentant les données dans les deux premiers axes factoriels de l'ACP\"\u001b[0m\u001b[0;34m)\u001b[0m\u001b[0;34m\u001b[0m\u001b[0;34m\u001b[0m\u001b[0m\n\u001b[0m\u001b[1;32m     11\u001b[0m \u001b[0mfig\u001b[0m\u001b[0;34m.\u001b[0m\u001b[0mshow\u001b[0m\u001b[0;34m(\u001b[0m\u001b[0;34m)\u001b[0m\u001b[0;34m\u001b[0m\u001b[0;34m\u001b[0m\u001b[0m\n",
            "\u001b[0;31mAttributeError\u001b[0m: 'Figure' object has no attribute 'title'"
          ]
        }
      ]
    },
    {
      "cell_type": "code",
      "source": [
        "print(pca.explained_variance_)\n",
        "print(pca.explained_variance_ratio_)"
      ],
      "metadata": {
        "id": "vRnTmoeaVYN5",
        "colab": {
          "base_uri": "https://localhost:8080/"
        },
        "outputId": "e03a27d3-0faa-4073-d68f-7562c2e55b40"
      },
      "execution_count": 10,
      "outputs": [
        {
          "output_type": "stream",
          "name": "stdout",
          "text": [
            "[1.21710543e-02 7.54516758e-03 4.00761003e-03 2.89508561e-03\n",
            " 2.50871619e-03 2.13727541e-03 1.86509464e-03 1.59643509e-03\n",
            " 1.27741671e-03 1.23446947e-03 9.88848740e-04 9.43165214e-04\n",
            " 8.98631755e-04 8.10020952e-04 7.28433486e-04 6.64244115e-04\n",
            " 6.52104092e-04 5.52226149e-04 5.48147364e-04 5.00434951e-04\n",
            " 4.43405122e-04 3.94850038e-04 3.88994988e-04 3.69239919e-04\n",
            " 3.57327081e-04 3.52576200e-04 3.34314653e-04 2.91504752e-04\n",
            " 2.70719989e-04 2.67502997e-04 2.42230686e-04 2.21449023e-04\n",
            " 1.95871631e-04 1.89331025e-04 1.83195545e-04 1.74808272e-04\n",
            " 1.64342797e-04 1.46704842e-04 1.46038423e-04 1.35733790e-04\n",
            " 1.31484107e-04 1.17718657e-04 1.12623558e-04 1.03181046e-04\n",
            " 9.62340637e-05 9.24541455e-05 8.68515417e-05 8.12694780e-05\n",
            " 7.94136868e-05 7.17509392e-05 6.57318305e-05 6.27049740e-05\n",
            " 5.83717483e-05 5.46075389e-05 5.34196151e-05 5.12070656e-05\n",
            " 4.70891973e-05 4.58557406e-05 4.44664693e-05 4.11678811e-05\n",
            " 4.10064968e-05 3.60268241e-05 3.49734801e-05 3.37055208e-05\n",
            " 3.24349494e-05 3.13973796e-05 3.06510738e-05 2.96318794e-05\n",
            " 2.91640717e-05 2.84564812e-05 2.74663071e-05 2.60177039e-05\n",
            " 2.44808634e-05 2.22802410e-05 2.20548791e-05 2.17902289e-05\n",
            " 2.14974461e-05 2.11825190e-05 2.08986712e-05 2.03988075e-05\n",
            " 2.03270465e-05 1.95079883e-05 1.92876796e-05 1.88616741e-05\n",
            " 1.81266878e-05 1.78167429e-05 1.76342419e-05 1.72953169e-05\n",
            " 1.71503016e-05 1.68434435e-05 1.65613619e-05 1.61891712e-05\n",
            " 1.59247811e-05 1.57264167e-05 1.51785616e-05 1.50895885e-05\n",
            " 1.45628273e-05 1.43329853e-05 1.36710478e-05 1.35333321e-05\n",
            " 1.35093060e-05 1.19843671e-05 1.19519627e-05 1.12080388e-05\n",
            " 1.07596388e-05 9.56999793e-06 9.15650162e-06 8.79440813e-06\n",
            " 8.67497329e-06 8.52188896e-06 7.81307881e-06 7.18721139e-06\n",
            " 5.77091760e-06 8.89734120e-11]\n",
            "[2.3268780e-01 1.4424950e-01 7.6618016e-02 5.5348624e-02 4.7961965e-02\n",
            " 4.0860713e-02 3.5657123e-02 3.0520855e-02 2.4421820e-02 2.3600748e-02\n",
            " 1.8904939e-02 1.8031556e-02 1.7180160e-02 1.5486087e-02 1.3926286e-02\n",
            " 1.2699106e-02 1.2467011e-02 1.0557531e-02 1.0479553e-02 9.5673809e-03\n",
            " 8.4770769e-03 7.5487946e-03 7.4368571e-03 7.0591769e-03 6.8314257e-03\n",
            " 6.7405980e-03 6.3914713e-03 5.5730259e-03 5.1756604e-03 5.1141572e-03\n",
            " 4.6309978e-03 4.2336914e-03 3.7446995e-03 3.6196553e-03 3.5023564e-03\n",
            " 3.3420075e-03 3.1419271e-03 2.8047224e-03 2.7919817e-03 2.5949762e-03\n",
            " 2.5137304e-03 2.2505606e-03 2.1531519e-03 1.9726288e-03 1.8398154e-03\n",
            " 1.7675505e-03 1.6604392e-03 1.5537206e-03 1.5182412e-03 1.3717439e-03\n",
            " 1.2566698e-03 1.1988019e-03 1.1159587e-03 1.0439941e-03 1.0212832e-03\n",
            " 9.7898336e-04 9.0025744e-04 8.7667606e-04 8.5011579e-04 7.8705291e-04\n",
            " 7.8396755e-04 6.8876555e-04 6.6862756e-04 6.4438657e-04 6.2009558e-04\n",
            " 6.0025923e-04 5.8599125e-04 5.6650612e-04 5.5756251e-04 5.4403470e-04\n",
            " 5.2510446e-04 4.9740984e-04 4.6802836e-04 4.2595656e-04 4.2164806e-04\n",
            " 4.1658845e-04 4.1099099e-04 4.0497017e-04 3.9954353e-04 3.8998708e-04\n",
            " 3.8861512e-04 3.7295627e-04 3.6874437e-04 3.6059995e-04 3.4654839e-04\n",
            " 3.4062282e-04 3.3713374e-04 3.3065412e-04 3.2788172e-04 3.2201514e-04\n",
            " 3.1662229e-04 3.0950669e-04 3.0445206e-04 3.0065968e-04 2.9018574e-04\n",
            " 2.8848473e-04 2.7841402e-04 2.7401990e-04 2.6136488e-04 2.5873201e-04\n",
            " 2.5827269e-04 2.2911870e-04 2.2849919e-04 2.1427675e-04 2.0570419e-04\n",
            " 1.8296047e-04 1.7505519e-04 1.6813264e-04 1.6584927e-04 1.6292259e-04\n",
            " 1.4937147e-04 1.3740605e-04 1.1032916e-04 1.7010053e-09]\n"
          ]
        }
      ]
    },
    {
      "cell_type": "code",
      "source": [
        "lists=pca.explained_variance_ratio_\n",
        "length = len(lists)\n",
        "cum_list = [sum(lists[0:x:1]) for x in range(0, length+1)]"
      ],
      "metadata": {
        "id": "7cB-7N7BcIus"
      },
      "execution_count": 11,
      "outputs": []
    },
    {
      "cell_type": "code",
      "source": [
        "fig=px.scatter(y=pca.explained_variance_ratio_)\n",
        "fig.update_xaxes(title_text='Ratio de variance expliquée selon les différents axes factoriels')\n",
        "fig.show()"
      ],
      "metadata": {
        "colab": {
          "base_uri": "https://localhost:8080/",
          "height": 542
        },
        "id": "5dagrL9sbkgb",
        "outputId": "a6ee560f-ea66-42b7-c64c-de7e3e44e229"
      },
      "execution_count": 17,
      "outputs": [
        {
          "output_type": "display_data",
          "data": {
            "text/html": [
              "<html>\n",
              "<head><meta charset=\"utf-8\" /></head>\n",
              "<body>\n",
              "    <div>\n",
              "            <script src=\"https://cdnjs.cloudflare.com/ajax/libs/mathjax/2.7.5/MathJax.js?config=TeX-AMS-MML_SVG\"></script><script type=\"text/javascript\">if (window.MathJax) {MathJax.Hub.Config({SVG: {font: \"STIX-Web\"}});}</script>\n",
              "                <script type=\"text/javascript\">window.PlotlyConfig = {MathJaxConfig: 'local'};</script>\n",
              "        <script src=\"https://cdn.plot.ly/plotly-latest.min.js\"></script>    \n",
              "            <div id=\"7cecea9b-7553-4f20-997d-30b61ea8ce86\" class=\"plotly-graph-div\" style=\"height:525px; width:100%;\"></div>\n",
              "            <script type=\"text/javascript\">\n",
              "                \n",
              "                    window.PLOTLYENV=window.PLOTLYENV || {};\n",
              "                    \n",
              "                if (document.getElementById(\"7cecea9b-7553-4f20-997d-30b61ea8ce86\")) {\n",
              "                    Plotly.newPlot(\n",
              "                        '7cecea9b-7553-4f20-997d-30b61ea8ce86',\n",
              "                        [{\"hoverlabel\": {\"namelength\": 0}, \"hovertemplate\": \"y=%{y}\", \"legendgroup\": \"\", \"marker\": {\"color\": \"#636efa\", \"symbol\": \"circle\"}, \"mode\": \"markers\", \"name\": \"\", \"showlegend\": false, \"type\": \"scatter\", \"xaxis\": \"x\", \"y\": [0.2326878011226654, 0.14424949884414673, 0.0766180157661438, 0.05534862354397774, 0.04796196520328522, 0.04086071252822876, 0.0356571227312088, 0.030520854517817497, 0.024421820417046547, 0.02360074780881405, 0.01890493929386139, 0.01803155615925789, 0.01718015968799591, 0.015486086718738079, 0.01392628625035286, 0.012699105776846409, 0.012467010878026485, 0.010557531379163265, 0.010479552671313286, 0.009567380882799625, 0.008477076888084412, 0.007548794616013765, 0.007436857093125582, 0.007059176918119192, 0.006831425707787275, 0.0067405980080366135, 0.00639147125184536, 0.005573025904595852, 0.005175660364329815, 0.005114157218486071, 0.0046309977769851685, 0.0042336913757026196, 0.003744699526578188, 0.003619655268266797, 0.003502356354147196, 0.0033420075196772814, 0.0031419270671904087, 0.0028047224041074514, 0.002791981678456068, 0.002594976220279932, 0.0025137304328382015, 0.0022505605593323708, 0.0021531519014388323, 0.0019726287573575974, 0.0018398154061287642, 0.0017675504786893725, 0.0016604391857981682, 0.001553720561787486, 0.0015182412462309003, 0.00137174385599792, 0.0012566697550937533, 0.0011988019105046988, 0.001115958672016859, 0.001043994096107781, 0.0010212832130491734, 0.0009789833566173911, 0.0009002574370242655, 0.000876676058396697, 0.00085011578630656, 0.0007870529079809785, 0.0007839675527065992, 0.0006887655472382903, 0.0006686275592073798, 0.0006443865713663399, 0.0006200955831445754, 0.0006002592272125185, 0.0005859912489540875, 0.0005665061180479825, 0.0005575625109486282, 0.0005440347013063729, 0.0005251044640317559, 0.0004974098410457373, 0.0004680283600464463, 0.00042595656123012304, 0.00042164805927313864, 0.00041658844565972686, 0.00041099099325947464, 0.0004049701674375683, 0.00039954352541826665, 0.00038998707896098495, 0.0003886151243932545, 0.00037295627407729626, 0.00036874436773359776, 0.0003605999518185854, 0.0003465483896434307, 0.00034062282065860927, 0.0003371337370481342, 0.00033065411844290793, 0.00032788171665742993, 0.0003220151411369443, 0.0003166222886648029, 0.0003095066931564361, 0.0003044520562980324, 0.0003006596816703677, 0.0002901857369579375, 0.0002884847344830632, 0.00027841402334161103, 0.0002740198979154229, 0.0002613648830447346, 0.0002587320050224662, 0.000258272688370198, 0.00022911869746167213, 0.0002284991933265701, 0.0002142767480108887, 0.00020570418564602733, 0.00018296047346666455, 0.00017505518917459995, 0.00016813263937365264, 0.00016584926925133914, 0.00016292258806061, 0.00014937146625015885, 0.0001374060520902276, 0.00011032915790565312, 1.7010053365851263e-09], \"yaxis\": \"y\"}],\n",
              "                        {\"legend\": {\"tracegroupgap\": 0}, \"margin\": {\"t\": 60}, \"template\": {\"data\": {\"bar\": [{\"error_x\": {\"color\": \"#2a3f5f\"}, \"error_y\": {\"color\": \"#2a3f5f\"}, \"marker\": {\"line\": {\"color\": \"#E5ECF6\", \"width\": 0.5}}, \"type\": \"bar\"}], \"barpolar\": [{\"marker\": {\"line\": {\"color\": \"#E5ECF6\", \"width\": 0.5}}, \"type\": \"barpolar\"}], \"carpet\": [{\"aaxis\": {\"endlinecolor\": \"#2a3f5f\", \"gridcolor\": \"white\", \"linecolor\": \"white\", \"minorgridcolor\": \"white\", \"startlinecolor\": \"#2a3f5f\"}, \"baxis\": {\"endlinecolor\": \"#2a3f5f\", \"gridcolor\": \"white\", \"linecolor\": \"white\", \"minorgridcolor\": \"white\", \"startlinecolor\": \"#2a3f5f\"}, \"type\": \"carpet\"}], \"choropleth\": [{\"colorbar\": {\"outlinewidth\": 0, \"ticks\": \"\"}, \"type\": \"choropleth\"}], \"contour\": [{\"colorbar\": {\"outlinewidth\": 0, \"ticks\": \"\"}, \"colorscale\": [[0.0, \"#0d0887\"], [0.1111111111111111, \"#46039f\"], [0.2222222222222222, \"#7201a8\"], [0.3333333333333333, \"#9c179e\"], [0.4444444444444444, \"#bd3786\"], [0.5555555555555556, \"#d8576b\"], [0.6666666666666666, \"#ed7953\"], [0.7777777777777778, \"#fb9f3a\"], [0.8888888888888888, \"#fdca26\"], [1.0, \"#f0f921\"]], \"type\": \"contour\"}], \"contourcarpet\": [{\"colorbar\": {\"outlinewidth\": 0, \"ticks\": \"\"}, \"type\": \"contourcarpet\"}], \"heatmap\": [{\"colorbar\": {\"outlinewidth\": 0, \"ticks\": \"\"}, \"colorscale\": [[0.0, \"#0d0887\"], [0.1111111111111111, \"#46039f\"], [0.2222222222222222, \"#7201a8\"], [0.3333333333333333, \"#9c179e\"], [0.4444444444444444, \"#bd3786\"], [0.5555555555555556, \"#d8576b\"], [0.6666666666666666, \"#ed7953\"], [0.7777777777777778, \"#fb9f3a\"], [0.8888888888888888, \"#fdca26\"], [1.0, \"#f0f921\"]], \"type\": \"heatmap\"}], \"heatmapgl\": [{\"colorbar\": {\"outlinewidth\": 0, \"ticks\": \"\"}, \"colorscale\": [[0.0, \"#0d0887\"], [0.1111111111111111, \"#46039f\"], [0.2222222222222222, \"#7201a8\"], [0.3333333333333333, \"#9c179e\"], [0.4444444444444444, \"#bd3786\"], [0.5555555555555556, \"#d8576b\"], [0.6666666666666666, \"#ed7953\"], [0.7777777777777778, \"#fb9f3a\"], [0.8888888888888888, \"#fdca26\"], [1.0, \"#f0f921\"]], \"type\": \"heatmapgl\"}], \"histogram\": [{\"marker\": {\"colorbar\": {\"outlinewidth\": 0, \"ticks\": \"\"}}, \"type\": \"histogram\"}], \"histogram2d\": [{\"colorbar\": {\"outlinewidth\": 0, \"ticks\": \"\"}, \"colorscale\": [[0.0, \"#0d0887\"], [0.1111111111111111, \"#46039f\"], [0.2222222222222222, \"#7201a8\"], [0.3333333333333333, \"#9c179e\"], [0.4444444444444444, \"#bd3786\"], [0.5555555555555556, \"#d8576b\"], [0.6666666666666666, \"#ed7953\"], [0.7777777777777778, \"#fb9f3a\"], [0.8888888888888888, \"#fdca26\"], [1.0, \"#f0f921\"]], \"type\": \"histogram2d\"}], \"histogram2dcontour\": [{\"colorbar\": {\"outlinewidth\": 0, \"ticks\": \"\"}, \"colorscale\": [[0.0, \"#0d0887\"], [0.1111111111111111, \"#46039f\"], [0.2222222222222222, \"#7201a8\"], [0.3333333333333333, \"#9c179e\"], [0.4444444444444444, \"#bd3786\"], [0.5555555555555556, \"#d8576b\"], [0.6666666666666666, \"#ed7953\"], [0.7777777777777778, \"#fb9f3a\"], [0.8888888888888888, \"#fdca26\"], [1.0, \"#f0f921\"]], \"type\": \"histogram2dcontour\"}], \"mesh3d\": [{\"colorbar\": {\"outlinewidth\": 0, \"ticks\": \"\"}, \"type\": \"mesh3d\"}], \"parcoords\": [{\"line\": {\"colorbar\": {\"outlinewidth\": 0, \"ticks\": \"\"}}, \"type\": \"parcoords\"}], \"pie\": [{\"automargin\": true, \"type\": \"pie\"}], \"scatter\": [{\"marker\": {\"colorbar\": {\"outlinewidth\": 0, \"ticks\": \"\"}}, \"type\": \"scatter\"}], \"scatter3d\": [{\"line\": {\"colorbar\": {\"outlinewidth\": 0, \"ticks\": \"\"}}, \"marker\": {\"colorbar\": {\"outlinewidth\": 0, \"ticks\": \"\"}}, \"type\": \"scatter3d\"}], \"scattercarpet\": [{\"marker\": {\"colorbar\": {\"outlinewidth\": 0, \"ticks\": \"\"}}, \"type\": \"scattercarpet\"}], \"scattergeo\": [{\"marker\": {\"colorbar\": {\"outlinewidth\": 0, \"ticks\": \"\"}}, \"type\": \"scattergeo\"}], \"scattergl\": [{\"marker\": {\"colorbar\": {\"outlinewidth\": 0, \"ticks\": \"\"}}, \"type\": \"scattergl\"}], \"scattermapbox\": [{\"marker\": {\"colorbar\": {\"outlinewidth\": 0, \"ticks\": \"\"}}, \"type\": \"scattermapbox\"}], \"scatterpolar\": [{\"marker\": {\"colorbar\": {\"outlinewidth\": 0, \"ticks\": \"\"}}, \"type\": \"scatterpolar\"}], \"scatterpolargl\": [{\"marker\": {\"colorbar\": {\"outlinewidth\": 0, \"ticks\": \"\"}}, \"type\": \"scatterpolargl\"}], \"scatterternary\": [{\"marker\": {\"colorbar\": {\"outlinewidth\": 0, \"ticks\": \"\"}}, \"type\": \"scatterternary\"}], \"surface\": [{\"colorbar\": {\"outlinewidth\": 0, \"ticks\": \"\"}, \"colorscale\": [[0.0, \"#0d0887\"], [0.1111111111111111, \"#46039f\"], [0.2222222222222222, \"#7201a8\"], [0.3333333333333333, \"#9c179e\"], [0.4444444444444444, \"#bd3786\"], [0.5555555555555556, \"#d8576b\"], [0.6666666666666666, \"#ed7953\"], [0.7777777777777778, \"#fb9f3a\"], [0.8888888888888888, \"#fdca26\"], [1.0, \"#f0f921\"]], \"type\": \"surface\"}], \"table\": [{\"cells\": {\"fill\": {\"color\": \"#EBF0F8\"}, \"line\": {\"color\": \"white\"}}, \"header\": {\"fill\": {\"color\": \"#C8D4E3\"}, \"line\": {\"color\": \"white\"}}, \"type\": \"table\"}]}, \"layout\": {\"annotationdefaults\": {\"arrowcolor\": \"#2a3f5f\", \"arrowhead\": 0, \"arrowwidth\": 1}, \"coloraxis\": {\"colorbar\": {\"outlinewidth\": 0, \"ticks\": \"\"}}, \"colorscale\": {\"diverging\": [[0, \"#8e0152\"], [0.1, \"#c51b7d\"], [0.2, \"#de77ae\"], [0.3, \"#f1b6da\"], [0.4, \"#fde0ef\"], [0.5, \"#f7f7f7\"], [0.6, \"#e6f5d0\"], [0.7, \"#b8e186\"], [0.8, \"#7fbc41\"], [0.9, \"#4d9221\"], [1, \"#276419\"]], \"sequential\": [[0.0, \"#0d0887\"], [0.1111111111111111, \"#46039f\"], [0.2222222222222222, \"#7201a8\"], [0.3333333333333333, \"#9c179e\"], [0.4444444444444444, \"#bd3786\"], [0.5555555555555556, \"#d8576b\"], [0.6666666666666666, \"#ed7953\"], [0.7777777777777778, \"#fb9f3a\"], [0.8888888888888888, \"#fdca26\"], [1.0, \"#f0f921\"]], \"sequentialminus\": [[0.0, \"#0d0887\"], [0.1111111111111111, \"#46039f\"], [0.2222222222222222, \"#7201a8\"], [0.3333333333333333, \"#9c179e\"], [0.4444444444444444, \"#bd3786\"], [0.5555555555555556, \"#d8576b\"], [0.6666666666666666, \"#ed7953\"], [0.7777777777777778, \"#fb9f3a\"], [0.8888888888888888, \"#fdca26\"], [1.0, \"#f0f921\"]]}, \"colorway\": [\"#636efa\", \"#EF553B\", \"#00cc96\", \"#ab63fa\", \"#FFA15A\", \"#19d3f3\", \"#FF6692\", \"#B6E880\", \"#FF97FF\", \"#FECB52\"], \"font\": {\"color\": \"#2a3f5f\"}, \"geo\": {\"bgcolor\": \"white\", \"lakecolor\": \"white\", \"landcolor\": \"#E5ECF6\", \"showlakes\": true, \"showland\": true, \"subunitcolor\": \"white\"}, \"hoverlabel\": {\"align\": \"left\"}, \"hovermode\": \"closest\", \"mapbox\": {\"style\": \"light\"}, \"paper_bgcolor\": \"white\", \"plot_bgcolor\": \"#E5ECF6\", \"polar\": {\"angularaxis\": {\"gridcolor\": \"white\", \"linecolor\": \"white\", \"ticks\": \"\"}, \"bgcolor\": \"#E5ECF6\", \"radialaxis\": {\"gridcolor\": \"white\", \"linecolor\": \"white\", \"ticks\": \"\"}}, \"scene\": {\"xaxis\": {\"backgroundcolor\": \"#E5ECF6\", \"gridcolor\": \"white\", \"gridwidth\": 2, \"linecolor\": \"white\", \"showbackground\": true, \"ticks\": \"\", \"zerolinecolor\": \"white\"}, \"yaxis\": {\"backgroundcolor\": \"#E5ECF6\", \"gridcolor\": \"white\", \"gridwidth\": 2, \"linecolor\": \"white\", \"showbackground\": true, \"ticks\": \"\", \"zerolinecolor\": \"white\"}, \"zaxis\": {\"backgroundcolor\": \"#E5ECF6\", \"gridcolor\": \"white\", \"gridwidth\": 2, \"linecolor\": \"white\", \"showbackground\": true, \"ticks\": \"\", \"zerolinecolor\": \"white\"}}, \"shapedefaults\": {\"line\": {\"color\": \"#2a3f5f\"}}, \"ternary\": {\"aaxis\": {\"gridcolor\": \"white\", \"linecolor\": \"white\", \"ticks\": \"\"}, \"baxis\": {\"gridcolor\": \"white\", \"linecolor\": \"white\", \"ticks\": \"\"}, \"bgcolor\": \"#E5ECF6\", \"caxis\": {\"gridcolor\": \"white\", \"linecolor\": \"white\", \"ticks\": \"\"}}, \"title\": {\"x\": 0.05}, \"xaxis\": {\"automargin\": true, \"gridcolor\": \"white\", \"linecolor\": \"white\", \"ticks\": \"\", \"title\": {\"standoff\": 15}, \"zerolinecolor\": \"white\", \"zerolinewidth\": 2}, \"yaxis\": {\"automargin\": true, \"gridcolor\": \"white\", \"linecolor\": \"white\", \"ticks\": \"\", \"title\": {\"standoff\": 15}, \"zerolinecolor\": \"white\", \"zerolinewidth\": 2}}}, \"xaxis\": {\"anchor\": \"y\", \"domain\": [0.0, 1.0], \"title\": {\"text\": \"Ratio de variance expliqu\\u00e9e selon les diff\\u00e9rents axes factoriels\"}}, \"yaxis\": {\"anchor\": \"x\", \"domain\": [0.0, 1.0], \"title\": {\"text\": \"y\"}}},\n",
              "                        {\"responsive\": true}\n",
              "                    ).then(function(){\n",
              "                            \n",
              "var gd = document.getElementById('7cecea9b-7553-4f20-997d-30b61ea8ce86');\n",
              "var x = new MutationObserver(function (mutations, observer) {{\n",
              "        var display = window.getComputedStyle(gd).display;\n",
              "        if (!display || display === 'none') {{\n",
              "            console.log([gd, 'removed!']);\n",
              "            Plotly.purge(gd);\n",
              "            observer.disconnect();\n",
              "        }}\n",
              "}});\n",
              "\n",
              "// Listen for the removal of the full notebook cells\n",
              "var notebookContainer = gd.closest('#notebook-container');\n",
              "if (notebookContainer) {{\n",
              "    x.observe(notebookContainer, {childList: true});\n",
              "}}\n",
              "\n",
              "// Listen for the clearing of the current output cell\n",
              "var outputEl = gd.closest('.output');\n",
              "if (outputEl) {{\n",
              "    x.observe(outputEl, {childList: true});\n",
              "}}\n",
              "\n",
              "                        })\n",
              "                };\n",
              "                \n",
              "            </script>\n",
              "        </div>\n",
              "</body>\n",
              "</html>"
            ]
          },
          "metadata": {}
        }
      ]
    },
    {
      "cell_type": "code",
      "source": [
        "fig=px.scatter(y=cum_list)\n",
        "fig.update_xaxes(title_text='Inertie expliquée selon les différents axes factoriels')"
      ],
      "metadata": {
        "colab": {
          "base_uri": "https://localhost:8080/",
          "height": 542
        },
        "id": "0Efx1cZfdIZq",
        "outputId": "b8cca97b-1354-4df6-c2ed-9d5f2fcb98dc"
      },
      "execution_count": 19,
      "outputs": [
        {
          "output_type": "display_data",
          "data": {
            "text/html": [
              "<html>\n",
              "<head><meta charset=\"utf-8\" /></head>\n",
              "<body>\n",
              "    <div>\n",
              "            <script src=\"https://cdnjs.cloudflare.com/ajax/libs/mathjax/2.7.5/MathJax.js?config=TeX-AMS-MML_SVG\"></script><script type=\"text/javascript\">if (window.MathJax) {MathJax.Hub.Config({SVG: {font: \"STIX-Web\"}});}</script>\n",
              "                <script type=\"text/javascript\">window.PlotlyConfig = {MathJaxConfig: 'local'};</script>\n",
              "        <script src=\"https://cdn.plot.ly/plotly-latest.min.js\"></script>    \n",
              "            <div id=\"112f3303-3d7e-4dc7-a8ee-654c2e30e113\" class=\"plotly-graph-div\" style=\"height:525px; width:100%;\"></div>\n",
              "            <script type=\"text/javascript\">\n",
              "                \n",
              "                    window.PLOTLYENV=window.PLOTLYENV || {};\n",
              "                    \n",
              "                if (document.getElementById(\"112f3303-3d7e-4dc7-a8ee-654c2e30e113\")) {\n",
              "                    Plotly.newPlot(\n",
              "                        '112f3303-3d7e-4dc7-a8ee-654c2e30e113',\n",
              "                        [{\"hoverlabel\": {\"namelength\": 0}, \"hovertemplate\": \"y=%{y}\", \"legendgroup\": \"\", \"marker\": {\"color\": \"#636efa\", \"symbol\": \"circle\"}, \"mode\": \"markers\", \"name\": \"\", \"showlegend\": false, \"type\": \"scatter\", \"xaxis\": \"x\", \"y\": [0.0, 0.2326878011226654, 0.37693729996681213, 0.45355531573295593, 0.5089039392769337, 0.5568659044802189, 0.5977266170084476, 0.6333837397396564, 0.663904594257474, 0.6883264146745205, 0.7119271624833345, 0.7308321017771959, 0.7488636579364538, 0.7660438176244497, 0.7815299043431878, 0.7954561905935407, 0.8081552963703871, 0.8206223072484136, 0.8311798386275768, 0.8416593912988901, 0.8512267721816897, 0.8597038490697742, 0.8672526436857879, 0.8746895007789135, 0.8817486776970327, 0.88858010340482, 0.8953207014128566, 0.9017121726647019, 0.9072851985692978, 0.9124608589336276, 0.9175750161521137, 0.9222060139290988, 0.9264397053048015, 0.9301844048313797, 0.9338040600996464, 0.9373064164537936, 0.9406484239734709, 0.9437903510406613, 0.9465950734447688, 0.9493870551232249, 0.9519820313435048, 0.954495761776343, 0.9567463223356754, 0.9588994742371142, 0.9608721029944718, 0.9627119184006006, 0.9644794688792899, 0.9661399080650881, 0.9676936286268756, 0.9692118698731065, 0.9705836137291044, 0.9718402834841982, 0.9730390853947029, 0.9741550440667197, 0.9751990381628275, 0.9762203213758767, 0.9771993047324941, 0.9780995621695183, 0.978976238227915, 0.9798263540142216, 0.9806134069222026, 0.9813973744749092, 0.9820861400221474, 0.9827547675813548, 0.9833991541527212, 0.9840192497358657, 0.9846195089630783, 0.9852055002120323, 0.9857720063300803, 0.986329568841029, 0.9868736035423353, 0.9873987080063671, 0.9878961178474128, 0.9883641462074593, 0.9887901027686894, 0.9892117508279625, 0.9896283392736223, 0.9900393302668817, 0.9904443004343193, 0.9908438439597376, 0.9912338310386986, 0.9916224461630918, 0.9919954024371691, 0.9923641468049027, 0.9927247467567213, 0.9930712951463647, 0.9934119179670233, 0.9937490517040715, 0.9940797058225144, 0.9944075875391718, 0.9947296026803087, 0.9950462249689735, 0.99535573166213, 0.995660183718428, 0.9959608434000984, 0.9962510291370563, 0.9965395138715394, 0.996817927894881, 0.9970919477927964, 0.9973533126758412, 0.9976120446808636, 0.9978703173692338, 0.9980994360666955, 0.9983279352600221, 0.998542212008033, 0.998747916193679, 0.9989308766671456, 0.9991059318563202, 0.9992740644956939, 0.9994399137649452, 0.9996028363530058, 0.999752207819256, 0.9998896138713462, 0.9999999430292519, 0.9999999447302572], \"yaxis\": \"y\"}],\n",
              "                        {\"legend\": {\"tracegroupgap\": 0}, \"margin\": {\"t\": 60}, \"template\": {\"data\": {\"bar\": [{\"error_x\": {\"color\": \"#2a3f5f\"}, \"error_y\": {\"color\": \"#2a3f5f\"}, \"marker\": {\"line\": {\"color\": \"#E5ECF6\", \"width\": 0.5}}, \"type\": \"bar\"}], \"barpolar\": [{\"marker\": {\"line\": {\"color\": \"#E5ECF6\", \"width\": 0.5}}, \"type\": \"barpolar\"}], \"carpet\": [{\"aaxis\": {\"endlinecolor\": \"#2a3f5f\", \"gridcolor\": \"white\", \"linecolor\": \"white\", \"minorgridcolor\": \"white\", \"startlinecolor\": \"#2a3f5f\"}, \"baxis\": {\"endlinecolor\": \"#2a3f5f\", \"gridcolor\": \"white\", \"linecolor\": \"white\", \"minorgridcolor\": \"white\", \"startlinecolor\": \"#2a3f5f\"}, \"type\": \"carpet\"}], \"choropleth\": [{\"colorbar\": {\"outlinewidth\": 0, \"ticks\": \"\"}, \"type\": \"choropleth\"}], \"contour\": [{\"colorbar\": {\"outlinewidth\": 0, \"ticks\": \"\"}, \"colorscale\": [[0.0, \"#0d0887\"], [0.1111111111111111, \"#46039f\"], [0.2222222222222222, \"#7201a8\"], [0.3333333333333333, \"#9c179e\"], [0.4444444444444444, \"#bd3786\"], [0.5555555555555556, \"#d8576b\"], [0.6666666666666666, \"#ed7953\"], [0.7777777777777778, \"#fb9f3a\"], [0.8888888888888888, \"#fdca26\"], [1.0, \"#f0f921\"]], \"type\": \"contour\"}], \"contourcarpet\": [{\"colorbar\": {\"outlinewidth\": 0, \"ticks\": \"\"}, \"type\": \"contourcarpet\"}], \"heatmap\": [{\"colorbar\": {\"outlinewidth\": 0, \"ticks\": \"\"}, \"colorscale\": [[0.0, \"#0d0887\"], [0.1111111111111111, \"#46039f\"], [0.2222222222222222, \"#7201a8\"], [0.3333333333333333, \"#9c179e\"], [0.4444444444444444, \"#bd3786\"], [0.5555555555555556, \"#d8576b\"], [0.6666666666666666, \"#ed7953\"], [0.7777777777777778, \"#fb9f3a\"], [0.8888888888888888, \"#fdca26\"], [1.0, \"#f0f921\"]], \"type\": \"heatmap\"}], \"heatmapgl\": [{\"colorbar\": {\"outlinewidth\": 0, \"ticks\": \"\"}, \"colorscale\": [[0.0, \"#0d0887\"], [0.1111111111111111, \"#46039f\"], [0.2222222222222222, \"#7201a8\"], [0.3333333333333333, \"#9c179e\"], [0.4444444444444444, \"#bd3786\"], [0.5555555555555556, \"#d8576b\"], [0.6666666666666666, \"#ed7953\"], [0.7777777777777778, \"#fb9f3a\"], [0.8888888888888888, \"#fdca26\"], [1.0, \"#f0f921\"]], \"type\": \"heatmapgl\"}], \"histogram\": [{\"marker\": {\"colorbar\": {\"outlinewidth\": 0, \"ticks\": \"\"}}, \"type\": \"histogram\"}], \"histogram2d\": [{\"colorbar\": {\"outlinewidth\": 0, \"ticks\": \"\"}, \"colorscale\": [[0.0, \"#0d0887\"], [0.1111111111111111, \"#46039f\"], [0.2222222222222222, \"#7201a8\"], [0.3333333333333333, \"#9c179e\"], [0.4444444444444444, \"#bd3786\"], [0.5555555555555556, \"#d8576b\"], [0.6666666666666666, \"#ed7953\"], [0.7777777777777778, \"#fb9f3a\"], [0.8888888888888888, \"#fdca26\"], [1.0, \"#f0f921\"]], \"type\": \"histogram2d\"}], \"histogram2dcontour\": [{\"colorbar\": {\"outlinewidth\": 0, \"ticks\": \"\"}, \"colorscale\": [[0.0, \"#0d0887\"], [0.1111111111111111, \"#46039f\"], [0.2222222222222222, \"#7201a8\"], [0.3333333333333333, \"#9c179e\"], [0.4444444444444444, \"#bd3786\"], [0.5555555555555556, \"#d8576b\"], [0.6666666666666666, \"#ed7953\"], [0.7777777777777778, \"#fb9f3a\"], [0.8888888888888888, \"#fdca26\"], [1.0, \"#f0f921\"]], \"type\": \"histogram2dcontour\"}], \"mesh3d\": [{\"colorbar\": {\"outlinewidth\": 0, \"ticks\": \"\"}, \"type\": \"mesh3d\"}], \"parcoords\": [{\"line\": {\"colorbar\": {\"outlinewidth\": 0, \"ticks\": \"\"}}, \"type\": \"parcoords\"}], \"pie\": [{\"automargin\": true, \"type\": \"pie\"}], \"scatter\": [{\"marker\": {\"colorbar\": {\"outlinewidth\": 0, \"ticks\": \"\"}}, \"type\": \"scatter\"}], \"scatter3d\": [{\"line\": {\"colorbar\": {\"outlinewidth\": 0, \"ticks\": \"\"}}, \"marker\": {\"colorbar\": {\"outlinewidth\": 0, \"ticks\": \"\"}}, \"type\": \"scatter3d\"}], \"scattercarpet\": [{\"marker\": {\"colorbar\": {\"outlinewidth\": 0, \"ticks\": \"\"}}, \"type\": \"scattercarpet\"}], \"scattergeo\": [{\"marker\": {\"colorbar\": {\"outlinewidth\": 0, \"ticks\": \"\"}}, \"type\": \"scattergeo\"}], \"scattergl\": [{\"marker\": {\"colorbar\": {\"outlinewidth\": 0, \"ticks\": \"\"}}, \"type\": \"scattergl\"}], \"scattermapbox\": [{\"marker\": {\"colorbar\": {\"outlinewidth\": 0, \"ticks\": \"\"}}, \"type\": \"scattermapbox\"}], \"scatterpolar\": [{\"marker\": {\"colorbar\": {\"outlinewidth\": 0, \"ticks\": \"\"}}, \"type\": \"scatterpolar\"}], \"scatterpolargl\": [{\"marker\": {\"colorbar\": {\"outlinewidth\": 0, \"ticks\": \"\"}}, \"type\": \"scatterpolargl\"}], \"scatterternary\": [{\"marker\": {\"colorbar\": {\"outlinewidth\": 0, \"ticks\": \"\"}}, \"type\": \"scatterternary\"}], \"surface\": [{\"colorbar\": {\"outlinewidth\": 0, \"ticks\": \"\"}, \"colorscale\": [[0.0, \"#0d0887\"], [0.1111111111111111, \"#46039f\"], [0.2222222222222222, \"#7201a8\"], [0.3333333333333333, \"#9c179e\"], [0.4444444444444444, \"#bd3786\"], [0.5555555555555556, \"#d8576b\"], [0.6666666666666666, \"#ed7953\"], [0.7777777777777778, \"#fb9f3a\"], [0.8888888888888888, \"#fdca26\"], [1.0, \"#f0f921\"]], \"type\": \"surface\"}], \"table\": [{\"cells\": {\"fill\": {\"color\": \"#EBF0F8\"}, \"line\": {\"color\": \"white\"}}, \"header\": {\"fill\": {\"color\": \"#C8D4E3\"}, \"line\": {\"color\": \"white\"}}, \"type\": \"table\"}]}, \"layout\": {\"annotationdefaults\": {\"arrowcolor\": \"#2a3f5f\", \"arrowhead\": 0, \"arrowwidth\": 1}, \"coloraxis\": {\"colorbar\": {\"outlinewidth\": 0, \"ticks\": \"\"}}, \"colorscale\": {\"diverging\": [[0, \"#8e0152\"], [0.1, \"#c51b7d\"], [0.2, \"#de77ae\"], [0.3, \"#f1b6da\"], [0.4, \"#fde0ef\"], [0.5, \"#f7f7f7\"], [0.6, \"#e6f5d0\"], [0.7, \"#b8e186\"], [0.8, \"#7fbc41\"], [0.9, \"#4d9221\"], [1, \"#276419\"]], \"sequential\": [[0.0, \"#0d0887\"], [0.1111111111111111, \"#46039f\"], [0.2222222222222222, \"#7201a8\"], [0.3333333333333333, \"#9c179e\"], [0.4444444444444444, \"#bd3786\"], [0.5555555555555556, \"#d8576b\"], [0.6666666666666666, \"#ed7953\"], [0.7777777777777778, \"#fb9f3a\"], [0.8888888888888888, \"#fdca26\"], [1.0, \"#f0f921\"]], \"sequentialminus\": [[0.0, \"#0d0887\"], [0.1111111111111111, \"#46039f\"], [0.2222222222222222, \"#7201a8\"], [0.3333333333333333, \"#9c179e\"], [0.4444444444444444, \"#bd3786\"], [0.5555555555555556, \"#d8576b\"], [0.6666666666666666, \"#ed7953\"], [0.7777777777777778, \"#fb9f3a\"], [0.8888888888888888, \"#fdca26\"], [1.0, \"#f0f921\"]]}, \"colorway\": [\"#636efa\", \"#EF553B\", \"#00cc96\", \"#ab63fa\", \"#FFA15A\", \"#19d3f3\", \"#FF6692\", \"#B6E880\", \"#FF97FF\", \"#FECB52\"], \"font\": {\"color\": \"#2a3f5f\"}, \"geo\": {\"bgcolor\": \"white\", \"lakecolor\": \"white\", \"landcolor\": \"#E5ECF6\", \"showlakes\": true, \"showland\": true, \"subunitcolor\": \"white\"}, \"hoverlabel\": {\"align\": \"left\"}, \"hovermode\": \"closest\", \"mapbox\": {\"style\": \"light\"}, \"paper_bgcolor\": \"white\", \"plot_bgcolor\": \"#E5ECF6\", \"polar\": {\"angularaxis\": {\"gridcolor\": \"white\", \"linecolor\": \"white\", \"ticks\": \"\"}, \"bgcolor\": \"#E5ECF6\", \"radialaxis\": {\"gridcolor\": \"white\", \"linecolor\": \"white\", \"ticks\": \"\"}}, \"scene\": {\"xaxis\": {\"backgroundcolor\": \"#E5ECF6\", \"gridcolor\": \"white\", \"gridwidth\": 2, \"linecolor\": \"white\", \"showbackground\": true, \"ticks\": \"\", \"zerolinecolor\": \"white\"}, \"yaxis\": {\"backgroundcolor\": \"#E5ECF6\", \"gridcolor\": \"white\", \"gridwidth\": 2, \"linecolor\": \"white\", \"showbackground\": true, \"ticks\": \"\", \"zerolinecolor\": \"white\"}, \"zaxis\": {\"backgroundcolor\": \"#E5ECF6\", \"gridcolor\": \"white\", \"gridwidth\": 2, \"linecolor\": \"white\", \"showbackground\": true, \"ticks\": \"\", \"zerolinecolor\": \"white\"}}, \"shapedefaults\": {\"line\": {\"color\": \"#2a3f5f\"}}, \"ternary\": {\"aaxis\": {\"gridcolor\": \"white\", \"linecolor\": \"white\", \"ticks\": \"\"}, \"baxis\": {\"gridcolor\": \"white\", \"linecolor\": \"white\", \"ticks\": \"\"}, \"bgcolor\": \"#E5ECF6\", \"caxis\": {\"gridcolor\": \"white\", \"linecolor\": \"white\", \"ticks\": \"\"}}, \"title\": {\"x\": 0.05}, \"xaxis\": {\"automargin\": true, \"gridcolor\": \"white\", \"linecolor\": \"white\", \"ticks\": \"\", \"title\": {\"standoff\": 15}, \"zerolinecolor\": \"white\", \"zerolinewidth\": 2}, \"yaxis\": {\"automargin\": true, \"gridcolor\": \"white\", \"linecolor\": \"white\", \"ticks\": \"\", \"title\": {\"standoff\": 15}, \"zerolinecolor\": \"white\", \"zerolinewidth\": 2}}}, \"xaxis\": {\"anchor\": \"y\", \"domain\": [0.0, 1.0], \"title\": {\"text\": \"Inertie expliqu\\u00e9e selon les diff\\u00e9rents axes factoriels\"}}, \"yaxis\": {\"anchor\": \"x\", \"domain\": [0.0, 1.0], \"title\": {\"text\": \"y\"}}},\n",
              "                        {\"responsive\": true}\n",
              "                    ).then(function(){\n",
              "                            \n",
              "var gd = document.getElementById('112f3303-3d7e-4dc7-a8ee-654c2e30e113');\n",
              "var x = new MutationObserver(function (mutations, observer) {{\n",
              "        var display = window.getComputedStyle(gd).display;\n",
              "        if (!display || display === 'none') {{\n",
              "            console.log([gd, 'removed!']);\n",
              "            Plotly.purge(gd);\n",
              "            observer.disconnect();\n",
              "        }}\n",
              "}});\n",
              "\n",
              "// Listen for the removal of the full notebook cells\n",
              "var notebookContainer = gd.closest('#notebook-container');\n",
              "if (notebookContainer) {{\n",
              "    x.observe(notebookContainer, {childList: true});\n",
              "}}\n",
              "\n",
              "// Listen for the clearing of the current output cell\n",
              "var outputEl = gd.closest('.output');\n",
              "if (outputEl) {{\n",
              "    x.observe(outputEl, {childList: true});\n",
              "}}\n",
              "\n",
              "                        })\n",
              "                };\n",
              "                \n",
              "            </script>\n",
              "        </div>\n",
              "</body>\n",
              "</html>"
            ]
          },
          "metadata": {}
        }
      ]
    },
    {
      "cell_type": "markdown",
      "source": [
        "## Filter outliers"
      ],
      "metadata": {
        "id": "6aDV1dfVies5"
      }
    },
    {
      "cell_type": "markdown",
      "source": [
        "We filter the outliers using a hierarchical clustering"
      ],
      "metadata": {
        "id": "VkqjfUVMU8TA"
      }
    },
    {
      "cell_type": "markdown",
      "source": [
        "\\"
      ],
      "metadata": {
        "id": "uz2IMZHcaLX4"
      }
    },
    {
      "cell_type": "code",
      "source": [
        "\n",
        "data=X=pca.transform(concatenate)[:,:10]\n",
        "plt.figure(figsize=(10, 7))  \n",
        "plt.title(\"Dendrograms\")  \n",
        "dend = shc.dendrogram(shc.linkage(data, method='single'))\n",
        "plt.axhline(y=50, color='r', linestyle='--')"
      ],
      "metadata": {
        "colab": {
          "base_uri": "https://localhost:8080/",
          "height": 461
        },
        "id": "NT1QhOKDw9iI",
        "outputId": "993527c8-d11a-4075-e8fb-3febb25dfe80"
      },
      "execution_count": 21,
      "outputs": [
        {
          "output_type": "execute_result",
          "data": {
            "text/plain": [
              "<matplotlib.lines.Line2D at 0x7f890d515c10>"
            ]
          },
          "metadata": {},
          "execution_count": 21
        },
        {
          "output_type": "display_data",
          "data": {
            "image/png": "[encoded data removed]",
            "text/plain": [
              "<Figure size 720x504 with 1 Axes>"
            ]
          },
          "metadata": {
            "needs_background": "light"
          }
        }
      ]
    },
    {
      "cell_type": "code",
      "source": [
        "from sklearn.cluster import AgglomerativeClustering\n",
        "cluster = AgglomerativeClustering(n_clusters=2, affinity='euclidean', linkage='single')  \n",
        "cluster.fit_predict(data)"
      ],
      "metadata": {
        "colab": {
          "base_uri": "https://localhost:8080/"
        },
        "id": "Jkeb-YUJ0nHv",
        "outputId": "e873af22-8ac5-41f1-934e-66881ece302e"
      },
      "execution_count": 22,
      "outputs": [
        {
          "output_type": "execute_result",
          "data": {
            "text/plain": [
              "array([0, 0, 0, 0, 0, 0, 0, 0, 0, 0, 0, 0, 0, 0, 1, 0, 0, 0, 0, 1, 0, 0,\n",
              "       0, 0, 0, 0, 0, 0, 0, 0, 0, 0, 0, 0, 0, 0, 0, 1, 0, 0, 0, 0, 0, 1,\n",
              "       0, 1, 0, 0, 0, 0, 0, 0, 0, 0, 0, 0, 0, 0, 0, 0, 0, 0, 0, 0, 0, 1,\n",
              "       0, 0, 0, 0, 0, 1, 0, 0, 0, 1, 1, 0, 0, 0, 0, 0, 0, 1, 0, 0, 0, 0,\n",
              "       1, 0, 0, 1, 0, 0, 0, 0, 0, 0, 0, 0, 1, 0, 1, 0, 0, 0, 0, 0, 0, 0,\n",
              "       0, 0, 0, 0])"
            ]
          },
          "metadata": {},
          "execution_count": 22
        }
      ]
    },
    {
      "cell_type": "code",
      "source": [
        "plt.figure(figsize=(10, 7))  \n",
        "plt.scatter(X[:,0], X[:,1], c=cluster.labels_) "
      ],
      "metadata": {
        "colab": {
          "base_uri": "https://localhost:8080/",
          "height": 445
        },
        "id": "UKPhdapT0sP1",
        "outputId": "c1266dd7-9cfe-45f6-9f20-d2a7e468c37a"
      },
      "execution_count": 23,
      "outputs": [
        {
          "output_type": "execute_result",
          "data": {
            "text/plain": [
              "<matplotlib.collections.PathCollection at 0x7f890d04c0d0>"
            ]
          },
          "metadata": {},
          "execution_count": 23
        },
        {
          "output_type": "display_data",
          "data": {
            "image/png": "[encoded data removed]",
            "text/plain": [
              "<Figure size 720x504 with 1 Axes>"
            ]
          },
          "metadata": {
            "needs_background": "light"
          }
        }
      ]
    },
    {
      "cell_type": "code",
      "source": [
        "individus=cluster.labels_.tolist()\n",
        "indices=[]\n",
        "for i in range(len(individus)):\n",
        "  if individus[i]==0:\n",
        "    indices.append(i)\n",
        "print(indices)"
      ],
      "metadata": {
        "id": "eoG3diLDhYQ5",
        "colab": {
          "base_uri": "https://localhost:8080/"
        },
        "outputId": "83553c33-9acd-4c4f-a914-886c220ac0c3"
      },
      "execution_count": 24,
      "outputs": [
        {
          "output_type": "stream",
          "name": "stdout",
          "text": [
            "[0, 1, 2, 3, 4, 5, 6, 7, 8, 9, 10, 11, 12, 13, 15, 16, 17, 18, 20, 21, 22, 23, 24, 25, 26, 27, 28, 29, 30, 31, 32, 33, 34, 35, 36, 38, 39, 40, 41, 42, 44, 46, 47, 48, 49, 50, 51, 52, 53, 54, 55, 56, 57, 58, 59, 60, 61, 62, 63, 64, 66, 67, 68, 69, 70, 72, 73, 74, 77, 78, 79, 80, 81, 82, 84, 85, 86, 87, 89, 90, 92, 93, 94, 95, 96, 97, 98, 99, 101, 103, 104, 105, 106, 107, 108, 109, 110, 111, 112, 113]\n"
          ]
        }
      ]
    },
    {
      "cell_type": "code",
      "source": [
        "datatouse=X[indices,0:10]\n",
        "imagestouse=imageconcatenate[indices]"
      ],
      "metadata": {
        "id": "23NNeiVfl5kP"
      },
      "execution_count": 25,
      "outputs": []
    },
    {
      "cell_type": "markdown",
      "source": [
        "## Find the shortest path using Principal Component, Neighbor Graph and TSP Problem"
      ],
      "metadata": {
        "id": "KvbMeZQEkbNj"
      }
    },
    {
      "cell_type": "markdown",
      "source": [
        "We create the graph using k neighbors with a complete graph"
      ],
      "metadata": {
        "id": "s0UnzuQOVq1X"
      }
    },
    {
      "cell_type": "code",
      "source": [
        "AX = kneighbors_graph(datatouse,99,mode='distance', include_self=False)\n",
        "GX=nx.Graph(AX)"
      ],
      "metadata": {
        "id": "xKlRgENHj7bo"
      },
      "execution_count": 26,
      "outputs": []
    },
    {
      "cell_type": "code",
      "source": [
        "d = pd.DataFrame({\n",
        "    \"Dim1\" : datatouse[:,0], \n",
        "    \"Dim2\" : datatouse[:,1],\n",
        "    \"index\": [i for i in range(len(datatouse[:,1]))]\n",
        "})\n",
        "\n",
        "fig = px.scatter(d, x=\"Dim1\", y=\"Dim2\",text=\"index\")\n",
        "fig.show()"
      ],
      "metadata": {
        "colab": {
          "base_uri": "https://localhost:8080/",
          "height": 542
        },
        "id": "tcOmiPffm5td",
        "outputId": "d271e6a1-dec3-47ef-f5b7-f565bc39d15d"
      },
      "execution_count": 27,
      "outputs": [
        {
          "output_type": "display_data",
          "data": {
            "text/html": [
              "<html>\n",
              "<head><meta charset=\"utf-8\" /></head>\n",
              "<body>\n",
              "    <div>\n",
              "            <script src=\"https://cdnjs.cloudflare.com/ajax/libs/mathjax/2.7.5/MathJax.js?config=TeX-AMS-MML_SVG\"></script><script type=\"text/javascript\">if (window.MathJax) {MathJax.Hub.Config({SVG: {font: \"STIX-Web\"}});}</script>\n",
              "                <script type=\"text/javascript\">window.PlotlyConfig = {MathJaxConfig: 'local'};</script>\n",
              "        <script src=\"https://cdn.plot.ly/plotly-latest.min.js\"></script>    \n",
              "            <div id=\"4c415ae4-e131-4158-b5d3-66c18540f8c7\" class=\"plotly-graph-div\" style=\"height:525px; width:100%;\"></div>\n",
              "            <script type=\"text/javascript\">\n",
              "                \n",
              "                    window.PLOTLYENV=window.PLOTLYENV || {};\n",
              "                    \n",
              "                if (document.getElementById(\"4c415ae4-e131-4158-b5d3-66c18540f8c7\")) {\n",
              "                    Plotly.newPlot(\n",
              "                        '4c415ae4-e131-4158-b5d3-66c18540f8c7',\n",
              "                        [{\"hoverlabel\": {\"namelength\": 0}, \"hovertemplate\": \"Dim1=%{x}<br>Dim2=%{y}<br>index=%{text}\", \"legendgroup\": \"\", \"marker\": {\"color\": \"#636efa\", \"symbol\": \"circle\"}, \"mode\": \"markers+text\", \"name\": \"\", \"showlegend\": false, \"text\": [0.0, 1.0, 2.0, 3.0, 4.0, 5.0, 6.0, 7.0, 8.0, 9.0, 10.0, 11.0, 12.0, 13.0, 14.0, 15.0, 16.0, 17.0, 18.0, 19.0, 20.0, 21.0, 22.0, 23.0, 24.0, 25.0, 26.0, 27.0, 28.0, 29.0, 30.0, 31.0, 32.0, 33.0, 34.0, 35.0, 36.0, 37.0, 38.0, 39.0, 40.0, 41.0, 42.0, 43.0, 44.0, 45.0, 46.0, 47.0, 48.0, 49.0, 50.0, 51.0, 52.0, 53.0, 54.0, 55.0, 56.0, 57.0, 58.0, 59.0, 60.0, 61.0, 62.0, 63.0, 64.0, 65.0, 66.0, 67.0, 68.0, 69.0, 70.0, 71.0, 72.0, 73.0, 74.0, 75.0, 76.0, 77.0, 78.0, 79.0, 80.0, 81.0, 82.0, 83.0, 84.0, 85.0, 86.0, 87.0, 88.0, 89.0, 90.0, 91.0, 92.0, 93.0, 94.0, 95.0, 96.0, 97.0, 98.0, 99.0], \"type\": \"scatter\", \"x\": [76.45247650146484, -57.27077102661133, 85.40062713623047, -29.078922271728516, 96.958251953125, 95.75788116455078, 13.77702522277832, -7.079369068145752, -58.24190902709961, -56.04608917236328, 49.5615348815918, -58.739017486572266, -58.88265609741211, 1.8447202444076538, -41.79542922973633, 90.66572570800781, -24.34498405456543, 92.20045471191406, -46.70162582397461, 86.81981658935547, 103.67594146728516, -37.342926025390625, 102.9132080078125, 3.977449655532837, -30.469688415527344, -43.79817199707031, -26.280336380004883, -54.317264556884766, -12.691266059875488, 84.7520751953125, 101.04557037353516, -55.668113708496094, -56.156429290771484, -54.9254150390625, -39.8858642578125, 85.09053039550781, -56.086021423339844, -17.002565383911133, -58.57685470581055, -53.10313034057617, 53.38640594482422, 103.5223617553711, 43.166412353515625, -13.728662490844727, -59.95039749145508, 99.39838409423828, 12.993707656860352, 101.56281280517578, 102.25530242919922, 7.5383992195129395, -58.34136962890625, -23.385923385620117, -3.738534927368164, 103.6546630859375, -18.482074737548828, 87.16254425048828, 80.91898345947266, -51.80207443237305, -54.87289810180664, 98.68558502197266, 73.03206634521484, -57.48418045043945, 36.552467346191406, 95.36221313476562, -14.835310935974121, 104.35331726074219, -55.48388671875, -55.932674407958984, 87.98709106445312, -61.29478073120117, -54.602535247802734, 24.7335262298584, 17.306331634521484, -55.062313079833984, -34.479522705078125, -27.612855911254883, -21.39975929260254, -56.08831024169922, -54.88355255126953, -5.622524261474609, 4.642285346984863, 93.2834243774414, 56.96186065673828, -12.17922592163086, -10.580354690551758, 29.26533317565918, -53.79533386230469, -1.8454946279525757, -9.194560050964355, 93.8841323852539, -59.608184814453125, 68.09154510498047, 83.4301528930664, -50.6422233581543, 99.66339111328125, -56.07841110229492, -45.607479095458984, -54.57396697998047, -15.619976043701172, -8.060737609863281], \"xaxis\": \"x\", \"y\": [2.1708476543426514, -39.19837188720703, -27.716386795043945, 34.101112365722656, -30.523303985595703, -23.662921905517578, 64.74746704101562, 94.12531280517578, -39.667449951171875, -37.86716842651367, 37.733551025390625, -41.96662521362305, -40.94032287597656, 80.44523620605469, 1.9527477025985718, -18.768192291259766, 55.549861907958984, -20.510805130004883, -10.713168144226074, -28.54096221923828, -30.57847023010254, 10.368901252746582, -31.60720443725586, 77.48560333251953, 28.427967071533203, -1.7953031063079834, 47.32210159301758, -28.723268508911133, 93.28466796875, -27.452638626098633, -27.9871826171875, -37.4635124206543, -37.652652740478516, -30.46054458618164, 5.571113109588623, -10.685164451599121, -37.58346176147461, 82.74887084960938, -41.39948654174805, -27.39324951171875, 32.22559356689453, -31.132020950317383, 41.68888854980469, 91.69871520996094, -43.759586334228516, -31.336780548095703, 66.64617919921875, -31.472795486450195, -31.552867889404297, 65.81627655029297, -40.92589569091797, 61.35321044921875, 90.00249481201172, -30.751432418823242, 79.1328353881836, -14.162064552307129, -2.5901975631713867, -24.73800277709961, -29.855968475341797, -25.795900344848633, 7.1896281242370605, -38.79782485961914, 47.81113815307617, -30.863178253173828, 88.95210266113281, -31.84816551208496, -33.56513977050781, -35.02640914916992, -28.495677947998047, -43.49067687988281, -29.427431106567383, 57.06310272216797, 61.721168518066406, -36.44268798828125, 16.2657527923584, 42.09989929199219, 67.91513061523438, -38.45834732055664, -36.82069396972656, 92.20170593261719, 69.93841552734375, -30.299177169799805, 26.893308639526367, 94.94557189941406, 95.72220611572266, 53.013763427734375, -34.5261344909668, 87.01988220214844, 95.73531341552734, -22.47542381286621, -43.21725082397461, 13.126287460327148, -6.911495685577393, -21.512468338012695, -27.110567092895508, -36.22181701660156, -6.076141834259033, -36.2640266418457, 86.44493103027344, 95.20747375488281], \"yaxis\": \"y\"}],\n",
              "                        {\"legend\": {\"tracegroupgap\": 0}, \"margin\": {\"t\": 60}, \"template\": {\"data\": {\"bar\": [{\"error_x\": {\"color\": \"#2a3f5f\"}, \"error_y\": {\"color\": \"#2a3f5f\"}, \"marker\": {\"line\": {\"color\": \"#E5ECF6\", \"width\": 0.5}}, \"type\": \"bar\"}], \"barpolar\": [{\"marker\": {\"line\": {\"color\": \"#E5ECF6\", \"width\": 0.5}}, \"type\": \"barpolar\"}], \"carpet\": [{\"aaxis\": {\"endlinecolor\": \"#2a3f5f\", \"gridcolor\": \"white\", \"linecolor\": \"white\", \"minorgridcolor\": \"white\", \"startlinecolor\": \"#2a3f5f\"}, \"baxis\": {\"endlinecolor\": \"#2a3f5f\", \"gridcolor\": \"white\", \"linecolor\": \"white\", \"minorgridcolor\": \"white\", \"startlinecolor\": \"#2a3f5f\"}, \"type\": \"carpet\"}], \"choropleth\": [{\"colorbar\": {\"outlinewidth\": 0, \"ticks\": \"\"}, \"type\": \"choropleth\"}], \"contour\": [{\"colorbar\": {\"outlinewidth\": 0, \"ticks\": \"\"}, \"colorscale\": [[0.0, \"#0d0887\"], [0.1111111111111111, \"#46039f\"], [0.2222222222222222, \"#7201a8\"], [0.3333333333333333, \"#9c179e\"], [0.4444444444444444, \"#bd3786\"], [0.5555555555555556, \"#d8576b\"], [0.6666666666666666, \"#ed7953\"], [0.7777777777777778, \"#fb9f3a\"], [0.8888888888888888, \"#fdca26\"], [1.0, \"#f0f921\"]], \"type\": \"contour\"}], \"contourcarpet\": [{\"colorbar\": {\"outlinewidth\": 0, \"ticks\": \"\"}, \"type\": \"contourcarpet\"}], \"heatmap\": [{\"colorbar\": {\"outlinewidth\": 0, \"ticks\": \"\"}, \"colorscale\": [[0.0, \"#0d0887\"], [0.1111111111111111, \"#46039f\"], [0.2222222222222222, \"#7201a8\"], [0.3333333333333333, \"#9c179e\"], [0.4444444444444444, \"#bd3786\"], [0.5555555555555556, \"#d8576b\"], [0.6666666666666666, \"#ed7953\"], [0.7777777777777778, \"#fb9f3a\"], [0.8888888888888888, \"#fdca26\"], [1.0, \"#f0f921\"]], \"type\": \"heatmap\"}], \"heatmapgl\": [{\"colorbar\": {\"outlinewidth\": 0, \"ticks\": \"\"}, \"colorscale\": [[0.0, \"#0d0887\"], [0.1111111111111111, \"#46039f\"], [0.2222222222222222, \"#7201a8\"], [0.3333333333333333, \"#9c179e\"], [0.4444444444444444, \"#bd3786\"], [0.5555555555555556, \"#d8576b\"], [0.6666666666666666, \"#ed7953\"], [0.7777777777777778, \"#fb9f3a\"], [0.8888888888888888, \"#fdca26\"], [1.0, \"#f0f921\"]], \"type\": \"heatmapgl\"}], \"histogram\": [{\"marker\": {\"colorbar\": {\"outlinewidth\": 0, \"ticks\": \"\"}}, \"type\": \"histogram\"}], \"histogram2d\": [{\"colorbar\": {\"outlinewidth\": 0, \"ticks\": \"\"}, \"colorscale\": [[0.0, \"#0d0887\"], [0.1111111111111111, \"#46039f\"], [0.2222222222222222, \"#7201a8\"], [0.3333333333333333, \"#9c179e\"], [0.4444444444444444, \"#bd3786\"], [0.5555555555555556, \"#d8576b\"], [0.6666666666666666, \"#ed7953\"], [0.7777777777777778, \"#fb9f3a\"], [0.8888888888888888, \"#fdca26\"], [1.0, \"#f0f921\"]], \"type\": \"histogram2d\"}], \"histogram2dcontour\": [{\"colorbar\": {\"outlinewidth\": 0, \"ticks\": \"\"}, \"colorscale\": [[0.0, \"#0d0887\"], [0.1111111111111111, \"#46039f\"], [0.2222222222222222, \"#7201a8\"], [0.3333333333333333, \"#9c179e\"], [0.4444444444444444, \"#bd3786\"], [0.5555555555555556, \"#d8576b\"], [0.6666666666666666, \"#ed7953\"], [0.7777777777777778, \"#fb9f3a\"], [0.8888888888888888, \"#fdca26\"], [1.0, \"#f0f921\"]], \"type\": \"histogram2dcontour\"}], \"mesh3d\": [{\"colorbar\": {\"outlinewidth\": 0, \"ticks\": \"\"}, \"type\": \"mesh3d\"}], \"parcoords\": [{\"line\": {\"colorbar\": {\"outlinewidth\": 0, \"ticks\": \"\"}}, \"type\": \"parcoords\"}], \"pie\": [{\"automargin\": true, \"type\": \"pie\"}], \"scatter\": [{\"marker\": {\"colorbar\": {\"outlinewidth\": 0, \"ticks\": \"\"}}, \"type\": \"scatter\"}], \"scatter3d\": [{\"line\": {\"colorbar\": {\"outlinewidth\": 0, \"ticks\": \"\"}}, \"marker\": {\"colorbar\": {\"outlinewidth\": 0, \"ticks\": \"\"}}, \"type\": \"scatter3d\"}], \"scattercarpet\": [{\"marker\": {\"colorbar\": {\"outlinewidth\": 0, \"ticks\": \"\"}}, \"type\": \"scattercarpet\"}], \"scattergeo\": [{\"marker\": {\"colorbar\": {\"outlinewidth\": 0, \"ticks\": \"\"}}, \"type\": \"scattergeo\"}], \"scattergl\": [{\"marker\": {\"colorbar\": {\"outlinewidth\": 0, \"ticks\": \"\"}}, \"type\": \"scattergl\"}], \"scattermapbox\": [{\"marker\": {\"colorbar\": {\"outlinewidth\": 0, \"ticks\": \"\"}}, \"type\": \"scattermapbox\"}], \"scatterpolar\": [{\"marker\": {\"colorbar\": {\"outlinewidth\": 0, \"ticks\": \"\"}}, \"type\": \"scatterpolar\"}], \"scatterpolargl\": [{\"marker\": {\"colorbar\": {\"outlinewidth\": 0, \"ticks\": \"\"}}, \"type\": \"scatterpolargl\"}], \"scatterternary\": [{\"marker\": {\"colorbar\": {\"outlinewidth\": 0, \"ticks\": \"\"}}, \"type\": \"scatterternary\"}], \"surface\": [{\"colorbar\": {\"outlinewidth\": 0, \"ticks\": \"\"}, \"colorscale\": [[0.0, \"#0d0887\"], [0.1111111111111111, \"#46039f\"], [0.2222222222222222, \"#7201a8\"], [0.3333333333333333, \"#9c179e\"], [0.4444444444444444, \"#bd3786\"], [0.5555555555555556, \"#d8576b\"], [0.6666666666666666, \"#ed7953\"], [0.7777777777777778, \"#fb9f3a\"], [0.8888888888888888, \"#fdca26\"], [1.0, \"#f0f921\"]], \"type\": \"surface\"}], \"table\": [{\"cells\": {\"fill\": {\"color\": \"#EBF0F8\"}, \"line\": {\"color\": \"white\"}}, \"header\": {\"fill\": {\"color\": \"#C8D4E3\"}, \"line\": {\"color\": \"white\"}}, \"type\": \"table\"}]}, \"layout\": {\"annotationdefaults\": {\"arrowcolor\": \"#2a3f5f\", \"arrowhead\": 0, \"arrowwidth\": 1}, \"coloraxis\": {\"colorbar\": {\"outlinewidth\": 0, \"ticks\": \"\"}}, \"colorscale\": {\"diverging\": [[0, \"#8e0152\"], [0.1, \"#c51b7d\"], [0.2, \"#de77ae\"], [0.3, \"#f1b6da\"], [0.4, \"#fde0ef\"], [0.5, \"#f7f7f7\"], [0.6, \"#e6f5d0\"], [0.7, \"#b8e186\"], [0.8, \"#7fbc41\"], [0.9, \"#4d9221\"], [1, \"#276419\"]], \"sequential\": [[0.0, \"#0d0887\"], [0.1111111111111111, \"#46039f\"], [0.2222222222222222, \"#7201a8\"], [0.3333333333333333, \"#9c179e\"], [0.4444444444444444, \"#bd3786\"], [0.5555555555555556, \"#d8576b\"], [0.6666666666666666, \"#ed7953\"], [0.7777777777777778, \"#fb9f3a\"], [0.8888888888888888, \"#fdca26\"], [1.0, \"#f0f921\"]], \"sequentialminus\": [[0.0, \"#0d0887\"], [0.1111111111111111, \"#46039f\"], [0.2222222222222222, \"#7201a8\"], [0.3333333333333333, \"#9c179e\"], [0.4444444444444444, \"#bd3786\"], [0.5555555555555556, \"#d8576b\"], [0.6666666666666666, \"#ed7953\"], [0.7777777777777778, \"#fb9f3a\"], [0.8888888888888888, \"#fdca26\"], [1.0, \"#f0f921\"]]}, \"colorway\": [\"#636efa\", \"#EF553B\", \"#00cc96\", \"#ab63fa\", \"#FFA15A\", \"#19d3f3\", \"#FF6692\", \"#B6E880\", \"#FF97FF\", \"#FECB52\"], \"font\": {\"color\": \"#2a3f5f\"}, \"geo\": {\"bgcolor\": \"white\", \"lakecolor\": \"white\", \"landcolor\": \"#E5ECF6\", \"showlakes\": true, \"showland\": true, \"subunitcolor\": \"white\"}, \"hoverlabel\": {\"align\": \"left\"}, \"hovermode\": \"closest\", \"mapbox\": {\"style\": \"light\"}, \"paper_bgcolor\": \"white\", \"plot_bgcolor\": \"#E5ECF6\", \"polar\": {\"angularaxis\": {\"gridcolor\": \"white\", \"linecolor\": \"white\", \"ticks\": \"\"}, \"bgcolor\": \"#E5ECF6\", \"radialaxis\": {\"gridcolor\": \"white\", \"linecolor\": \"white\", \"ticks\": \"\"}}, \"scene\": {\"xaxis\": {\"backgroundcolor\": \"#E5ECF6\", \"gridcolor\": \"white\", \"gridwidth\": 2, \"linecolor\": \"white\", \"showbackground\": true, \"ticks\": \"\", \"zerolinecolor\": \"white\"}, \"yaxis\": {\"backgroundcolor\": \"#E5ECF6\", \"gridcolor\": \"white\", \"gridwidth\": 2, \"linecolor\": \"white\", \"showbackground\": true, \"ticks\": \"\", \"zerolinecolor\": \"white\"}, \"zaxis\": {\"backgroundcolor\": \"#E5ECF6\", \"gridcolor\": \"white\", \"gridwidth\": 2, \"linecolor\": \"white\", \"showbackground\": true, \"ticks\": \"\", \"zerolinecolor\": \"white\"}}, \"shapedefaults\": {\"line\": {\"color\": \"#2a3f5f\"}}, \"ternary\": {\"aaxis\": {\"gridcolor\": \"white\", \"linecolor\": \"white\", \"ticks\": \"\"}, \"baxis\": {\"gridcolor\": \"white\", \"linecolor\": \"white\", \"ticks\": \"\"}, \"bgcolor\": \"#E5ECF6\", \"caxis\": {\"gridcolor\": \"white\", \"linecolor\": \"white\", \"ticks\": \"\"}}, \"title\": {\"x\": 0.05}, \"xaxis\": {\"automargin\": true, \"gridcolor\": \"white\", \"linecolor\": \"white\", \"ticks\": \"\", \"title\": {\"standoff\": 15}, \"zerolinecolor\": \"white\", \"zerolinewidth\": 2}, \"yaxis\": {\"automargin\": true, \"gridcolor\": \"white\", \"linecolor\": \"white\", \"ticks\": \"\", \"title\": {\"standoff\": 15}, \"zerolinecolor\": \"white\", \"zerolinewidth\": 2}}}, \"xaxis\": {\"anchor\": \"y\", \"domain\": [0.0, 1.0], \"title\": {\"text\": \"Dim1\"}}, \"yaxis\": {\"anchor\": \"x\", \"domain\": [0.0, 1.0], \"title\": {\"text\": \"Dim2\"}}},\n",
              "                        {\"responsive\": true}\n",
              "                    ).then(function(){\n",
              "                            \n",
              "var gd = document.getElementById('4c415ae4-e131-4158-b5d3-66c18540f8c7');\n",
              "var x = new MutationObserver(function (mutations, observer) {{\n",
              "        var display = window.getComputedStyle(gd).display;\n",
              "        if (!display || display === 'none') {{\n",
              "            console.log([gd, 'removed!']);\n",
              "            Plotly.purge(gd);\n",
              "            observer.disconnect();\n",
              "        }}\n",
              "}});\n",
              "\n",
              "// Listen for the removal of the full notebook cells\n",
              "var notebookContainer = gd.closest('#notebook-container');\n",
              "if (notebookContainer) {{\n",
              "    x.observe(notebookContainer, {childList: true});\n",
              "}}\n",
              "\n",
              "// Listen for the clearing of the current output cell\n",
              "var outputEl = gd.closest('.output');\n",
              "if (outputEl) {{\n",
              "    x.observe(outputEl, {childList: true});\n",
              "}}\n",
              "\n",
              "                        })\n",
              "                };\n",
              "                \n",
              "            </script>\n",
              "        </div>\n",
              "</body>\n",
              "</html>"
            ]
          },
          "metadata": {}
        }
      ]
    },
    {
      "cell_type": "markdown",
      "source": [
        "We chose '86' as the starting point from the solution of tsp"
      ],
      "metadata": {
        "id": "Px7uD2gOVvwF"
      }
    },
    {
      "cell_type": "code",
      "source": [
        "GX=nx.DiGraph(AX,vertex_size=300)\n",
        "nx.draw(GX,with_labels=True)"
      ],
      "metadata": {
        "id": "VWSv-SMZnQhJ",
        "colab": {
          "base_uri": "https://localhost:8080/",
          "height": 319
        },
        "outputId": "ed8354ae-afdb-446c-8d71-aa941669fab3"
      },
      "execution_count": 165,
      "outputs": [
        {
          "output_type": "display_data",
          "data": {
            "image/png": "[encoded data removed]",
            "text/plain": [
              "<Figure size 432x288 with 1 Axes>"
            ]
          },
          "metadata": {}
        }
      ]
    },
    {
      "cell_type": "code",
      "source": [
        "tsp = nx.approximation.greedy_tsp\n",
        "path=tsp(GX, source=86)\n"
      ],
      "metadata": {
        "id": "Eeo5R9ipmp2q"
      },
      "execution_count": 28,
      "outputs": []
    },
    {
      "cell_type": "code",
      "source": [
        "#to find a more optimal solution\n",
        "path2=nx.approximation.simulated_annealing_tsp(GX,path,move='1-0',source=86)\n",
        "path3=nx.approximation.threshold_accepting_tsp(GX,init_cycle=path2,source=86)"
      ],
      "metadata": {
        "id": "Cr0yta96obH_"
      },
      "execution_count": 29,
      "outputs": []
    },
    {
      "cell_type": "code",
      "source": [
        "print(path3)"
      ],
      "metadata": {
        "colab": {
          "base_uri": "https://localhost:8080/"
        },
        "id": "fmW0Pnj_9m9t",
        "outputId": "93726247-0bd1-442f-aa26-bd9ea19bdc05"
      },
      "execution_count": 30,
      "outputs": [
        {
          "output_type": "stream",
          "name": "stdout",
          "text": [
            "[86, 61, 8, 50, 38, 11, 90, 44, 69, 12, 1, 77, 9, 32, 97, 31, 36, 78, 73, 95, 67, 66, 33, 58, 70, 27, 39, 57, 93, 18, 96, 25, 14, 34, 21, 74, 24, 3, 75, 26, 16, 51, 76, 54, 37, 98, 64, 43, 28, 83, 84, 88, 99, 7, 79, 52, 87, 13, 23, 80, 49, 46, 6, 72, 71, 85, 62, 42, 10, 40, 82, 91, 60, 0, 56, 92, 35, 55, 15, 17, 89, 5, 59, 94, 30, 20, 53, 41, 65, 22, 48, 47, 45, 4, 63, 81, 19, 2, 29, 68, 86]\n"
          ]
        }
      ]
    },
    {
      "cell_type": "markdown",
      "source": [
        "#Recreate video from order"
      ],
      "metadata": {
        "id": "rlxV79KOWpGz"
      }
    },
    {
      "cell_type": "code",
      "source": [
        "def create_video(points,imageconcat, outfile):\n",
        "    img_array=[]\n",
        "    for point in reversed(points): #we realize that the starting point is the end point\n",
        "        img = imageconcat[point]\n",
        "        height, width, layers = img.shape\n",
        "        size = (width,height)\n",
        "        img_array.append(img)\n",
        "    \n",
        "    \n",
        "    out = cv2.VideoWriter(outfile,cv2.VideoWriter_fourcc(*'DIVX'), 15, size)\n",
        "    \n",
        "    for i in range(len(img_array)):\n",
        "        out.write(img_array[i])\n",
        "    out.release()"
      ],
      "metadata": {
        "id": "E2UTkABjPv1C"
      },
      "execution_count": 35,
      "outputs": []
    },
    {
      "cell_type": "code",
      "source": [
        "create_video(path3[:-1],imagestouse, 'recreate_video.avi')\n"
      ],
      "metadata": {
        "id": "eZ2xndqQ-xab"
      },
      "execution_count": 38,
      "outputs": []
    }
  ]
}